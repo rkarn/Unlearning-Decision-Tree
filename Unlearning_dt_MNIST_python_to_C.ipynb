{
 "cells": [
  {
   "cell_type": "markdown",
   "id": "a3b604ae",
   "metadata": {},
   "source": [
    "#### Python to C conversion (For STM32F303RE microcontroller). \n",
    "\n",
    "The generated decision rules that was dumped in the python function are converted to C."
   ]
  },
  {
   "cell_type": "code",
   "execution_count": 1,
   "id": "93ea1284",
   "metadata": {},
   "outputs": [],
   "source": [
    "def python_to_c(python_code):\n",
    "    lines = python_code.split('\\n')\n",
    "    c_code = '#include <stdio.h>\\n\\nint decision_tree_inference(double feature_num[]) {\\n'\n",
    "    for line in lines:\n",
    "        line = line.strip()\n",
    "        if 'None' in line:\n",
    "            line = 'int ' + line.replace('None', '-1;\\n')\n",
    "            c_code += line\n",
    "        if line.startswith('if'):\n",
    "            line = line.replace('and','&&')\n",
    "            line = line.replace('if', 'if(')\n",
    "            line = line.replace(':','){\\n')\n",
    "            c_code += line\n",
    "        elif line.startswith('label_class'):\n",
    "            c_code += '    label_class = ' + line.split('= ')[1].split(' ')[0] + ';\\n  }\\n'\n",
    "    c_code += '  return label_class;\\n}\\n'\n",
    "    return c_code"
   ]
  },
  {
   "cell_type": "code",
   "execution_count": 4,
   "id": "5523c782",
   "metadata": {},
   "outputs": [
    {
     "name": "stdout",
     "output_type": "stream",
     "text": [
      "['mnist_decision_tree_inference.py', 'forget_9_mnistdt.py', 'forget_8_mnistdt.py', 'forget_7_mnistdt.py', 'forget_6_mnistdt.py', 'forget_5_mnistdt.py', 'forget_4_mnistdt.py', 'forget_3_mnistdt.py', 'forget_2_mnistdt.py']\n"
     ]
    }
   ],
   "source": [
    "filenames = ['mnist_decision_tree_inference.py']\n",
    "for CTF in range(9,1,-1):\n",
    "    filenames.append(f'forget_{CTF}_mnistdt.py')\n",
    "print(filenames)\n",
    "\n",
    "for filename in filenames:\n",
    "    with open(filename,'r') as fl:\n",
    "        code = fl.read()\n",
    "    \n",
    "    c_code_filename = filename.replace('.py','.c')\n",
    "    with open(c_code_filename,'w') as fl:\n",
    "        fl.write(python_to_c(code))"
   ]
  },
  {
   "cell_type": "code",
   "execution_count": null,
   "id": "753b39f2",
   "metadata": {},
   "outputs": [],
   "source": []
  }
 ],
 "metadata": {
  "kernelspec": {
   "display_name": "Python 3 (ipykernel)",
   "language": "python",
   "name": "python3"
  },
  "language_info": {
   "codemirror_mode": {
    "name": "ipython",
    "version": 3
   },
   "file_extension": ".py",
   "mimetype": "text/x-python",
   "name": "python",
   "nbconvert_exporter": "python",
   "pygments_lexer": "ipython3",
   "version": "3.9.13"
  }
 },
 "nbformat": 4,
 "nbformat_minor": 5
}
